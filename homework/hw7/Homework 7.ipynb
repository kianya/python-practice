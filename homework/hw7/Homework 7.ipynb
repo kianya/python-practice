{
 "cells": [
  {
   "cell_type": "markdown",
   "metadata": {},
   "source": [
    "# Домашнее задание к занятию \"Методы математической оптимизации\""
   ]
  },
  {
   "cell_type": "code",
   "execution_count": 27,
   "metadata": {},
   "outputs": [],
   "source": [
    "import numpy as np\n",
    "from scipy import optimize\n",
    "from scipy.optimize import Bounds"
   ]
  },
  {
   "cell_type": "markdown",
   "metadata": {},
   "source": [
    "## Задание 1.\n",
    "Существует массив Z = [1,2,3,4,5,6,7,8,9,10,11,12,13,14],\n",
    "как из него создать массив R = [[1,2,3,4], [2,3,4,5], [3,4,5,6], ...,[11,12,13,14]]?"
   ]
  },
  {
   "cell_type": "code",
   "execution_count": 28,
   "metadata": {},
   "outputs": [
    {
     "data": {
      "text/plain": [
       "[[1, 2, 3, 4],\n",
       " [2, 3, 4, 5],\n",
       " [3, 4, 5, 6],\n",
       " [4, 5, 6, 7],\n",
       " [5, 6, 7, 8],\n",
       " [6, 7, 8, 9],\n",
       " [7, 8, 9, 10],\n",
       " [8, 9, 10, 11],\n",
       " [9, 10, 11, 12],\n",
       " [10, 11, 12, 13],\n",
       " [11, 12, 13, 14]]"
      ]
     },
     "execution_count": 28,
     "metadata": {},
     "output_type": "execute_result"
    }
   ],
   "source": [
    "Z = [1,2,3,4,5,6,7,8,9,10,11,12,13,14]\n",
    "R = [[Z[j] for j in range(i, i+4)] for i in range(0, len(Z)-3)]\n",
    "R"
   ]
  },
  {
   "cell_type": "markdown",
   "metadata": {},
   "source": [
    "## Задание 2.\n",
    "Дана произвольная матрица A. Рассчитать ранг матрицы A."
   ]
  },
  {
   "cell_type": "code",
   "execution_count": 29,
   "metadata": {},
   "outputs": [
    {
     "data": {
      "text/plain": [
       "2"
      ]
     },
     "execution_count": 29,
     "metadata": {},
     "output_type": "execute_result"
    }
   ],
   "source": [
    "mat = np.matrix([[1, 2], [3, 4]])\n",
    "np.linalg.matrix_rank(mat)"
   ]
  },
  {
   "cell_type": "markdown",
   "metadata": {},
   "source": [
    "## Задание 3.\n",
    "Найти лучший алгоритм для решения следующей задачи:\n",
    "min (x1x4(x1+x2+x3)+x3).\n",
    "Условия:\n",
    "x1x2x3x4≥30\n",
    "x1^2+x2^2+x3^2+x4^2=60\n",
    "2≤x1,x2,x3,x4≤6\n",
    "Начальное приближение:\n",
    "x=(1,5,5,1)"
   ]
  },
  {
   "cell_type": "code",
   "execution_count": 48,
   "metadata": {},
   "outputs": [],
   "source": [
    "# определение функции, которую нужно будет оптимизировать\n",
    "def f(x):\n",
    "    return (x[0]*x[3]*(x[0]+x[1]+x[2])+x[2])"
   ]
  },
  {
   "cell_type": "markdown",
   "metadata": {},
   "source": [
    "### Оптимизация методом SLSQP. Последовательное квадратичное программирование"
   ]
  },
  {
   "cell_type": "code",
   "execution_count": 49,
   "metadata": {},
   "outputs": [
    {
     "name": "stdout",
     "output_type": "stream",
     "text": [
      "Optimization terminated successfully.    (Exit mode 0)\n",
      "            Current function value: 29.94819603787154\n",
      "            Iterations: 22\n",
      "            Function evaluations: 145\n",
      "            Gradient evaluations: 18\n"
     ]
    },
    {
     "data": {
      "text/plain": [
       "     fun: 29.94819603787154\n",
       "     jac: array([17.67503428,  4.41153908,  5.41153908, 13.24847269])\n",
       " message: 'Optimization terminated successfully.'\n",
       "    nfev: 145\n",
       "     nit: 22\n",
       "    njev: 18\n",
       "  status: 0\n",
       " success: True\n",
       "       x: array([2.09917661, 2.10631678, 2.1057776 , 2.10155687])"
      ]
     },
     "execution_count": 49,
     "metadata": {},
     "output_type": "execute_result"
    }
   ],
   "source": [
    "# линейные ограничения\n",
    "# интервалы, в рамках которых можно рассматривать значение X (bounds):\n",
    "\n",
    "bounds = Bounds([2, 2, 2, 2], [6, 6, 6, 6])\n",
    "\n",
    "# нелинейные ограничения (функции)\n",
    "# условие больше или равно\n",
    "ineq_cons = ({\"type\": \"ineq\", \n",
    "              \"fun\": lambda x: np.array([x[0]*x[1]*x[2]*x[3] - 30]),\n",
    "              \"jac\" : lambda x: np.array([[x[1]*x[2]*x[3] , x[0]*x[2]*x[3] , x[0]*x[1]*x[3] , x[0]*x[1]*x[2]]])\n",
    "             })\n",
    "\n",
    "# условие равно\n",
    "eq_cons = ({\"type\": \"eq\", \n",
    "              \"fun\": lambda x: np.array([x[0]**2 + x[1]**2 + x[2]**2 + x[3]**2 ]),\n",
    "              \"jac\" : lambda x: np.array([[2*x[0] , 2*x[1] , 2*x[2] , 2*x[3]]])\n",
    "           })\n",
    "\n",
    "optimize.minimize(f, [1,5,5,1]\n",
    "                      , method=\"SLSQP\"\n",
    "                      , bounds=bounds\n",
    "                      , constraints = [eq_cons, ineq_cons]\n",
    "                      , options={'disp': True})"
   ]
  },
  {
   "cell_type": "markdown",
   "metadata": {},
   "source": [
    "### Оптимизация методом Constrained optimization by linear approximation (trust-constr)"
   ]
  },
  {
   "cell_type": "code",
   "execution_count": 51,
   "metadata": {},
   "outputs": [
    {
     "ename": "ValueError",
     "evalue": "all the input array dimensions except for the concatenation axis must match exactly",
     "output_type": "error",
     "traceback": [
      "\u001b[0;31m---------------------------------------------------------------------------\u001b[0m",
      "\u001b[0;31mValueError\u001b[0m                                Traceback (most recent call last)",
      "\u001b[0;32m<ipython-input-51-616322781b35>\u001b[0m in \u001b[0;36m<module>\u001b[0;34m()\u001b[0m\n\u001b[1;32m     16\u001b[0m                       \u001b[0;34m,\u001b[0m \u001b[0mhess\u001b[0m\u001b[0;34m=\u001b[0m\u001b[0moptimize\u001b[0m\u001b[0;34m.\u001b[0m\u001b[0mrosen_hess\u001b[0m\u001b[0;34m\u001b[0m\u001b[0m\n\u001b[1;32m     17\u001b[0m                       \u001b[0;31m#, constraints = [eq_cons, ineq_cons]\u001b[0m\u001b[0;34m\u001b[0m\u001b[0;34m\u001b[0m\u001b[0m\n\u001b[0;32m---> 18\u001b[0;31m                       , options={'disp': True})\n\u001b[0m",
      "\u001b[0;32m~/anaconda3/lib/python3.6/site-packages/scipy/optimize/_minimize.py\u001b[0m in \u001b[0;36mminimize\u001b[0;34m(fun, x0, args, method, jac, hess, hessp, bounds, constraints, tol, callback, options)\u001b[0m\n\u001b[1;32m    613\u001b[0m         return _minimize_trustregion_constr(fun, x0, args, jac, hess, hessp,\n\u001b[1;32m    614\u001b[0m                                             \u001b[0mbounds\u001b[0m\u001b[0;34m,\u001b[0m \u001b[0mconstraints\u001b[0m\u001b[0;34m,\u001b[0m\u001b[0;34m\u001b[0m\u001b[0m\n\u001b[0;32m--> 615\u001b[0;31m                                             callback=callback, **options)\n\u001b[0m\u001b[1;32m    616\u001b[0m     \u001b[0;32melif\u001b[0m \u001b[0mmeth\u001b[0m \u001b[0;34m==\u001b[0m \u001b[0;34m'dogleg'\u001b[0m\u001b[0;34m:\u001b[0m\u001b[0;34m\u001b[0m\u001b[0m\n\u001b[1;32m    617\u001b[0m         return _minimize_dogleg(fun, x0, args, jac, hess,\n",
      "\u001b[0;32m~/anaconda3/lib/python3.6/site-packages/scipy/optimize/_trustregion_constr/minimize_trustregion_constr.py\u001b[0m in \u001b[0;36m_minimize_trustregion_constr\u001b[0;34m(fun, x0, args, grad, hess, hessp, bounds, constraints, xtol, gtol, barrier_tol, sparse_jacobian, callback, maxiter, verbose, finite_diff_rel_step, initial_constr_penalty, initial_tr_radius, initial_barrier_parameter, initial_barrier_tolerance, factorization_method, disp)\u001b[0m\n\u001b[1;32m    504\u001b[0m             \u001b[0minitial_barrier_tolerance\u001b[0m\u001b[0;34m,\u001b[0m\u001b[0;34m\u001b[0m\u001b[0m\n\u001b[1;32m    505\u001b[0m             \u001b[0minitial_constr_penalty\u001b[0m\u001b[0;34m,\u001b[0m \u001b[0minitial_tr_radius\u001b[0m\u001b[0;34m,\u001b[0m\u001b[0;34m\u001b[0m\u001b[0m\n\u001b[0;32m--> 506\u001b[0;31m             factorization_method)\n\u001b[0m\u001b[1;32m    507\u001b[0m \u001b[0;34m\u001b[0m\u001b[0m\n\u001b[1;32m    508\u001b[0m     \u001b[0mresult\u001b[0m\u001b[0;34m.\u001b[0m\u001b[0mmessage\u001b[0m \u001b[0;34m=\u001b[0m \u001b[0mTERMINATION_MESSAGES\u001b[0m\u001b[0;34m[\u001b[0m\u001b[0mresult\u001b[0m\u001b[0;34m.\u001b[0m\u001b[0mstatus\u001b[0m\u001b[0;34m]\u001b[0m\u001b[0;34m\u001b[0m\u001b[0m\n",
      "\u001b[0;32m~/anaconda3/lib/python3.6/site-packages/scipy/optimize/_trustregion_constr/tr_interior_point.py\u001b[0m in \u001b[0;36mtr_interior_point\u001b[0;34m(fun, grad, lagr_hess, n_vars, n_ineq, n_eq, constr, jac, x0, fun0, grad0, constr_ineq0, jac_ineq0, constr_eq0, jac_eq0, stop_criteria, enforce_feasibility, xtol, state, initial_barrier_parameter, initial_tolerance, initial_penalty, initial_trust_radius, factorization_method)\u001b[0m\n\u001b[1;32m    307\u001b[0m         \u001b[0mbarrier_parameter\u001b[0m\u001b[0;34m,\u001b[0m \u001b[0mtolerance\u001b[0m\u001b[0;34m,\u001b[0m \u001b[0menforce_feasibility\u001b[0m\u001b[0;34m,\u001b[0m\u001b[0;34m\u001b[0m\u001b[0m\n\u001b[1;32m    308\u001b[0m         \u001b[0mstop_criteria\u001b[0m\u001b[0;34m,\u001b[0m \u001b[0mxtol\u001b[0m\u001b[0;34m,\u001b[0m \u001b[0mfun0\u001b[0m\u001b[0;34m,\u001b[0m \u001b[0mgrad0\u001b[0m\u001b[0;34m,\u001b[0m \u001b[0mconstr_ineq0\u001b[0m\u001b[0;34m,\u001b[0m \u001b[0mjac_ineq0\u001b[0m\u001b[0;34m,\u001b[0m\u001b[0;34m\u001b[0m\u001b[0m\n\u001b[0;32m--> 309\u001b[0;31m         constr_eq0, jac_eq0)\n\u001b[0m\u001b[1;32m    310\u001b[0m     \u001b[0;31m# Define initial parameter for the first iteration.\u001b[0m\u001b[0;34m\u001b[0m\u001b[0;34m\u001b[0m\u001b[0m\n\u001b[1;32m    311\u001b[0m     \u001b[0mz\u001b[0m \u001b[0;34m=\u001b[0m \u001b[0mnp\u001b[0m\u001b[0;34m.\u001b[0m\u001b[0mhstack\u001b[0m\u001b[0;34m(\u001b[0m\u001b[0;34m(\u001b[0m\u001b[0mx0\u001b[0m\u001b[0;34m,\u001b[0m \u001b[0ms0\u001b[0m\u001b[0;34m)\u001b[0m\u001b[0;34m)\u001b[0m\u001b[0;34m\u001b[0m\u001b[0m\n",
      "\u001b[0;32m~/anaconda3/lib/python3.6/site-packages/scipy/optimize/_trustregion_constr/tr_interior_point.py\u001b[0m in \u001b[0;36m__init__\u001b[0;34m(self, x0, s0, fun, grad, lagr_hess, n_vars, n_ineq, n_eq, constr, jac, barrier_parameter, tolerance, enforce_feasibility, global_stop_criteria, xtol, fun0, grad0, constr_ineq0, jac_ineq0, constr_eq0, jac_eq0)\u001b[0m\n\u001b[1;32m     54\u001b[0m         \u001b[0mself\u001b[0m\u001b[0;34m.\u001b[0m\u001b[0mgrad0\u001b[0m \u001b[0;34m=\u001b[0m \u001b[0mself\u001b[0m\u001b[0;34m.\u001b[0m\u001b[0m_compute_gradient\u001b[0m\u001b[0;34m(\u001b[0m\u001b[0mgrad0\u001b[0m\u001b[0;34m)\u001b[0m\u001b[0;34m\u001b[0m\u001b[0m\n\u001b[1;32m     55\u001b[0m         \u001b[0mself\u001b[0m\u001b[0;34m.\u001b[0m\u001b[0mconstr0\u001b[0m \u001b[0;34m=\u001b[0m \u001b[0mself\u001b[0m\u001b[0;34m.\u001b[0m\u001b[0m_compute_constr\u001b[0m\u001b[0;34m(\u001b[0m\u001b[0mconstr_ineq0\u001b[0m\u001b[0;34m,\u001b[0m \u001b[0mconstr_eq0\u001b[0m\u001b[0;34m,\u001b[0m \u001b[0ms0\u001b[0m\u001b[0;34m)\u001b[0m\u001b[0;34m\u001b[0m\u001b[0m\n\u001b[0;32m---> 56\u001b[0;31m         \u001b[0mself\u001b[0m\u001b[0;34m.\u001b[0m\u001b[0mjac0\u001b[0m \u001b[0;34m=\u001b[0m \u001b[0mself\u001b[0m\u001b[0;34m.\u001b[0m\u001b[0m_compute_jacobian\u001b[0m\u001b[0;34m(\u001b[0m\u001b[0mjac_eq0\u001b[0m\u001b[0;34m,\u001b[0m \u001b[0mjac_ineq0\u001b[0m\u001b[0;34m,\u001b[0m \u001b[0ms0\u001b[0m\u001b[0;34m)\u001b[0m\u001b[0;34m\u001b[0m\u001b[0m\n\u001b[0m\u001b[1;32m     57\u001b[0m         \u001b[0mself\u001b[0m\u001b[0;34m.\u001b[0m\u001b[0mterminate\u001b[0m \u001b[0;34m=\u001b[0m \u001b[0;32mFalse\u001b[0m\u001b[0;34m\u001b[0m\u001b[0m\n\u001b[1;32m     58\u001b[0m \u001b[0;34m\u001b[0m\u001b[0m\n",
      "\u001b[0;32m~/anaconda3/lib/python3.6/site-packages/scipy/optimize/_trustregion_constr/tr_interior_point.py\u001b[0m in \u001b[0;36m_compute_jacobian\u001b[0;34m(self, J_eq, J_ineq, s)\u001b[0m\n\u001b[1;32m    162\u001b[0m                 \u001b[0;31m# Concatenate matrices\u001b[0m\u001b[0;34m\u001b[0m\u001b[0;34m\u001b[0m\u001b[0m\n\u001b[1;32m    163\u001b[0m                 return np.asarray(np.bmat([[J_eq, zeros],\n\u001b[0;32m--> 164\u001b[0;31m                                            [J_ineq, S]]))\n\u001b[0m\u001b[1;32m    165\u001b[0m \u001b[0;34m\u001b[0m\u001b[0m\n\u001b[1;32m    166\u001b[0m     \u001b[0;32mdef\u001b[0m \u001b[0m_assemble_sparse_jacobian\u001b[0m\u001b[0;34m(\u001b[0m\u001b[0mself\u001b[0m\u001b[0;34m,\u001b[0m \u001b[0mJ_eq\u001b[0m\u001b[0;34m,\u001b[0m \u001b[0mJ_ineq\u001b[0m\u001b[0;34m,\u001b[0m \u001b[0ms\u001b[0m\u001b[0;34m)\u001b[0m\u001b[0;34m:\u001b[0m\u001b[0;34m\u001b[0m\u001b[0m\n",
      "\u001b[0;32m~/anaconda3/lib/python3.6/site-packages/numpy/matrixlib/defmatrix.py\u001b[0m in \u001b[0;36mbmat\u001b[0;34m(obj, ldict, gdict)\u001b[0m\n\u001b[1;32m   1190\u001b[0m                 \u001b[0;32mreturn\u001b[0m \u001b[0mmatrix\u001b[0m\u001b[0;34m(\u001b[0m\u001b[0mconcatenate\u001b[0m\u001b[0;34m(\u001b[0m\u001b[0mobj\u001b[0m\u001b[0;34m,\u001b[0m \u001b[0maxis\u001b[0m\u001b[0;34m=\u001b[0m\u001b[0;34m-\u001b[0m\u001b[0;36m1\u001b[0m\u001b[0;34m)\u001b[0m\u001b[0;34m)\u001b[0m\u001b[0;34m\u001b[0m\u001b[0m\n\u001b[1;32m   1191\u001b[0m             \u001b[0;32melse\u001b[0m\u001b[0;34m:\u001b[0m\u001b[0;34m\u001b[0m\u001b[0m\n\u001b[0;32m-> 1192\u001b[0;31m                 \u001b[0marr_rows\u001b[0m\u001b[0;34m.\u001b[0m\u001b[0mappend\u001b[0m\u001b[0;34m(\u001b[0m\u001b[0mconcatenate\u001b[0m\u001b[0;34m(\u001b[0m\u001b[0mrow\u001b[0m\u001b[0;34m,\u001b[0m \u001b[0maxis\u001b[0m\u001b[0;34m=\u001b[0m\u001b[0;34m-\u001b[0m\u001b[0;36m1\u001b[0m\u001b[0;34m)\u001b[0m\u001b[0;34m)\u001b[0m\u001b[0;34m\u001b[0m\u001b[0m\n\u001b[0m\u001b[1;32m   1193\u001b[0m         \u001b[0;32mreturn\u001b[0m \u001b[0mmatrix\u001b[0m\u001b[0;34m(\u001b[0m\u001b[0mconcatenate\u001b[0m\u001b[0;34m(\u001b[0m\u001b[0marr_rows\u001b[0m\u001b[0;34m,\u001b[0m \u001b[0maxis\u001b[0m\u001b[0;34m=\u001b[0m\u001b[0;36m0\u001b[0m\u001b[0;34m)\u001b[0m\u001b[0;34m)\u001b[0m\u001b[0;34m\u001b[0m\u001b[0m\n\u001b[1;32m   1194\u001b[0m     \u001b[0;32mif\u001b[0m \u001b[0misinstance\u001b[0m\u001b[0;34m(\u001b[0m\u001b[0mobj\u001b[0m\u001b[0;34m,\u001b[0m \u001b[0mN\u001b[0m\u001b[0;34m.\u001b[0m\u001b[0mndarray\u001b[0m\u001b[0;34m)\u001b[0m\u001b[0;34m:\u001b[0m\u001b[0;34m\u001b[0m\u001b[0m\n",
      "\u001b[0;31mValueError\u001b[0m: all the input array dimensions except for the concatenation axis must match exactly"
     ]
    }
   ],
   "source": [
    "## Нелинейные зависимости для метода trust-constr\n",
    "\n",
    "optimize.minimize(f, [1,5,5,1]\n",
    "                      , method=\"trust-constr\"\n",
    "                      , jac=optimize.rosen_der\n",
    "                      , hess=optimize.rosen_hess\n",
    "                      , constraints = [eq_cons, ineq_cons]\n",
    "                      , options={'disp': True})"
   ]
  },
  {
   "cell_type": "code",
   "execution_count": null,
   "metadata": {},
   "outputs": [],
   "source": []
  }
 ],
 "metadata": {
  "kernelspec": {
   "display_name": "Python 3",
   "language": "python",
   "name": "python3"
  },
  "language_info": {
   "codemirror_mode": {
    "name": "ipython",
    "version": 3
   },
   "file_extension": ".py",
   "mimetype": "text/x-python",
   "name": "python",
   "nbconvert_exporter": "python",
   "pygments_lexer": "ipython3",
   "version": "3.6.5"
  }
 },
 "nbformat": 4,
 "nbformat_minor": 2
}
