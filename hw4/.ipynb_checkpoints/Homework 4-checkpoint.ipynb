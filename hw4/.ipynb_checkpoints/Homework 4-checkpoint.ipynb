{
 "cells": [
  {
   "cell_type": "markdown",
   "metadata": {},
   "source": [
    "# Домашнее задание 4. Продвинутые типы данныx"
   ]
  },
  {
   "cell_type": "code",
   "execution_count": 1,
   "metadata": {},
   "outputs": [],
   "source": [
    "from datetime import datetime\n",
    "\n"
   ]
  },
  {
   "cell_type": "markdown",
   "metadata": {},
   "source": [
    "## Задание 1\n",
    "Напишите функцию date_range, которая возвращает список дней между датами start_date и end_date. Даты должны вводиться в формате YYYY-MM-DD.\n"
   ]
  },
  {
   "cell_type": "code",
   "execution_count": 18,
   "metadata": {},
   "outputs": [
    {
     "data": {
      "text/plain": [
       "['2018-01-01',\n",
       " '2018-01-02',\n",
       " '2018-01-03',\n",
       " '2018-01-04',\n",
       " '2018-01-05',\n",
       " '2018-01-06',\n",
       " '2018-01-07',\n",
       " '2018-01-08',\n",
       " '2018-01-09']"
      ]
     },
     "execution_count": 18,
     "metadata": {},
     "output_type": "execute_result"
    }
   ],
   "source": [
    "from datetime import datetime, timedelta\n",
    "\n",
    "def date_range(start_date, end_date):\n",
    "    delta = (datetime.strptime(end_date, '%Y-%m-%d') - datetime.strptime(start_date, '%Y-%m-%d'))\n",
    "    day_list=[]\n",
    "    for i in range(delta.days):\n",
    "        day_list += [datetime.strftime(datetime.strptime(start_date, '%Y-%m-%d') + timedelta(i), '%Y-%m-%d')]\n",
    "    return day_list\n",
    "    \n",
    "date_range('2018-01-01', '2018-01-10')"
   ]
  },
  {
   "cell_type": "markdown",
   "metadata": {},
   "source": [
    " ## Задание 2\n",
    "Дополните функцию из первого задания проверкой на корректность дат. В случае неверного формата или если start_date > end_date должен возвращаться пустой список.\n",
    " "
   ]
  },
  {
   "cell_type": "code",
   "execution_count": 22,
   "metadata": {},
   "outputs": [
    {
     "data": {
      "text/plain": [
       "[]"
      ]
     },
     "execution_count": 22,
     "metadata": {},
     "output_type": "execute_result"
    }
   ],
   "source": [
    "def date_range(start_date, end_date):\n",
    "    day_list=[]\n",
    "    try:\n",
    "        delta = (datetime.strptime(end_date, '%Y-%m-%d') - datetime.strptime(start_date, '%Y-%m-%d'))\n",
    "        if delta.days<0: return day_list\n",
    "    except :\n",
    "        return day_list\n",
    "    for i in range(delta.days):\n",
    "        day_list += [datetime.strftime(datetime.strptime(start_date, '%Y-%m-%d') + timedelta(i), '%Y-%m-%d')]\n",
    "    return day_list\n",
    "\n",
    "date_range('2018-02-01', '2018-01-10')"
   ]
  },
  {
   "cell_type": "markdown",
   "metadata": {},
   "source": [
    "## Задание 3\n",
    "Дан поток дат в формате YYYY-MM-DD, в которых встречаются некорректные значения:\n",
    "stream = ['2018-04-02', '2018-02-29', '2018-19-02']\n",
    "Напишите функцию, которая проверяет эти даты на корректность. Т. е. для каждой даты возвращает True (дата корректна) или False (некорректная дата).\n"
   ]
  },
  {
   "cell_type": "code",
   "execution_count": 25,
   "metadata": {},
   "outputs": [
    {
     "data": {
      "text/plain": [
       "[True, False, False]"
      ]
     },
     "execution_count": 25,
     "metadata": {},
     "output_type": "execute_result"
    }
   ],
   "source": [
    "stream = ['2018-04-02', '2018-02-29', '2018-19-02']\n",
    "\n",
    "def is_correct_days(stream):\n",
    "    stream_is_correct = []\n",
    "    for i in stream:\n",
    "        try:\n",
    "            datetime.strptime(i, '%Y-%m-%d')\n",
    "            stream_is_correct+=[True]\n",
    "        except:\n",
    "            stream_is_correct+=[False]\n",
    "    return stream_is_correct\n",
    "\n",
    "is_correct_days(stream)\n"
   ]
  },
  {
   "cell_type": "markdown",
   "metadata": {},
   "source": [
    "## Задание 4\n",
    "Напишите функцию, которая возвращает список дат с 1 по вчерашний день текущего месяца. Если дан 1 день месяца, то возвращается список дней прошлого месяца.\n",
    " "
   ]
  },
  {
   "cell_type": "code",
   "execution_count": 55,
   "metadata": {},
   "outputs": [
    {
     "data": {
      "text/plain": [
       "['2018-08-01',\n",
       " '2018-08-02',\n",
       " '2018-08-03',\n",
       " '2018-08-04',\n",
       " '2018-08-05',\n",
       " '2018-08-06',\n",
       " '2018-08-07',\n",
       " '2018-08-08',\n",
       " '2018-08-09',\n",
       " '2018-08-10',\n",
       " '2018-08-11',\n",
       " '2018-08-12',\n",
       " '2018-08-13',\n",
       " '2018-08-14',\n",
       " '2018-08-15',\n",
       " '2018-08-16',\n",
       " '2018-08-17',\n",
       " '2018-08-18',\n",
       " '2018-08-19',\n",
       " '2018-08-20',\n",
       " '2018-08-21',\n",
       " '2018-08-22',\n",
       " '2018-08-23',\n",
       " '2018-08-24',\n",
       " '2018-08-25',\n",
       " '2018-08-26',\n",
       " '2018-08-27',\n",
       " '2018-08-28',\n",
       " '2018-08-29',\n",
       " '2018-08-30',\n",
       " '2018-08-31']"
      ]
     },
     "execution_count": 55,
     "metadata": {},
     "output_type": "execute_result"
    }
   ],
   "source": [
    "def days_list(value):\n",
    "    days_list=[]\n",
    "    end_date = datetime.strptime(value,'%Y-%m-%d' ) - timedelta(1)\n",
    "    start_date = datetime(end_date.year, end_date.month, 1)\n",
    "    for i in range((end_date - start_date).days + 1):\n",
    "        days_list+=[datetime.strftime(start_date+timedelta(i), '%Y-%m-%d')]\n",
    "    return days_list\n",
    "\n",
    "days_list('2018-09-01')"
   ]
  },
  {
   "cell_type": "markdown",
   "metadata": {},
   "source": [
    "## Задание 5\n",
    "Напишите функцию, которая возвращает точную дату в формате YYYY-MM-DD по фразе:\n",
    "1. 'today' - сегодняшнюю дату\n",
    "2. 'last monday' -  прошлый понедельник\n",
    "3. 'last day' - Последний день текущего месяца\n"
   ]
  },
  {
   "cell_type": "code",
   "execution_count": 68,
   "metadata": {},
   "outputs": [
    {
     "data": {
      "text/plain": [
       "2"
      ]
     },
     "execution_count": 68,
     "metadata": {},
     "output_type": "execute_result"
    }
   ],
   "source": [
    "datetime.now().weekday()"
   ]
  },
  {
   "cell_type": "code",
   "execution_count": 72,
   "metadata": {},
   "outputs": [
    {
     "data": {
      "text/plain": [
       "'2018-09-30'"
      ]
     },
     "execution_count": 72,
     "metadata": {},
     "output_type": "execute_result"
    }
   ],
   "source": [
    "def get_date(value):\n",
    "    if value == 'today':\n",
    "        return datetime.strftime(datetime.now(), '%Y-%m-%d')\n",
    "    elif value == 'last monday' :\n",
    "        return datetime.strftime(datetime.now() - timedelta(datetime.now().weekday()), '%Y-%m-%d')\n",
    "    elif value == 'last day':\n",
    "        return datetime.strftime(datetime(datetime.now().year, datetime.now().month+1, 1) - timedelta(1), '%Y-%m-%d')\n",
    "    else:\n",
    "        return null\n",
    "    \n",
    "get_date('last day')"
   ]
  },
  {
   "cell_type": "markdown",
   "metadata": {},
   "source": [
    "## Задание 6\n",
    "Напишите функцию, которая разбивает на недели с понедельника по воскресенье интервал дат между start_date и end_date. Считайте, что входные данные всегда корректны. В ответ должны входить только полные недели."
   ]
  },
  {
   "cell_type": "code",
   "execution_count": 115,
   "metadata": {},
   "outputs": [
    {
     "data": {
      "text/plain": [
       "[('2018-08-27', '2018-09-02'),\n",
       " ('2018-09-03', '2018-09-09'),\n",
       " ('2018-09-10', '2018-09-16')]"
      ]
     },
     "execution_count": 115,
     "metadata": {},
     "output_type": "execute_result"
    }
   ],
   "source": [
    "def get_full_weeks(start_date, end_date):\n",
    "    if ( datetime.strptime(start_date, '%Y-%m-%d').weekday()>0):\n",
    "        start_week_date = datetime.strptime(start_date, '%Y-%m-%d') + timedelta(7) - timedelta(datetime.strptime(start_date, '%Y-%m-%d').weekday())\n",
    "    else:\n",
    "        start_week_date = datetime.strptime(start_date, '%Y-%m-%d') \n",
    "    end_week_date = datetime.strptime(end_date, '%Y-%m-%d') - timedelta(datetime.strptime(end_date, '%Y-%m-%d').weekday())\n",
    "    weeks_list = []\n",
    "    for i in range(0,(end_week_date - start_week_date).days, 7):\n",
    "        weeks_list += [(datetime.strftime(start_week_date + timedelta(i), '%Y-%m-%d'), \n",
    "                                datetime.strftime(start_week_date + timedelta(i) + timedelta(6), '%Y-%m-%d'))]\n",
    "    return weeks_list\n",
    "            \n",
    "get_full_weeks('2018-08-27', '2018-09-20')"
   ]
  }
 ],
 "metadata": {
  "kernelspec": {
   "display_name": "Python 3",
   "language": "python",
   "name": "python3"
  },
  "language_info": {
   "codemirror_mode": {
    "name": "ipython",
    "version": 3
   },
   "file_extension": ".py",
   "mimetype": "text/x-python",
   "name": "python",
   "nbconvert_exporter": "python",
   "pygments_lexer": "ipython3",
   "version": "3.6.5"
  }
 },
 "nbformat": 4,
 "nbformat_minor": 2
}
