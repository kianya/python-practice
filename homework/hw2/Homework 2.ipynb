{
 "cells": [
  {
   "cell_type": "markdown",
   "metadata": {},
   "source": [
    "# Домашнее задание 2. Базовые типы данных и циклы"
   ]
  },
  {
   "cell_type": "markdown",
   "metadata": {},
   "source": [
    "## Задание 1\n",
    "\n",
    "Дан список с визитами по городам и странам. Напишите код, который возвращает отфильтрованный список geo_logs, содержащий только визиты из России. Считайте, что список geo_logs легко помещается в оперативной памяти.\n",
    "\n"
   ]
  },
  {
   "cell_type": "code",
   "execution_count": 51,
   "metadata": {
    "scrolled": true
   },
   "outputs": [
    {
     "data": {
      "text/plain": [
       "[['visit1', ['Москва', 'Россия']],\n",
       " ['visit3', ['Владимир', 'Россия']],\n",
       " ['visit7', ['Тула', 'Россия']],\n",
       " ['visit8', ['Тула', 'Россия']],\n",
       " ['visit9', ['Курск', 'Россия']],\n",
       " ['visit10', ['Архангельск', 'Россия']]]"
      ]
     },
     "execution_count": 51,
     "metadata": {},
     "output_type": "execute_result"
    }
   ],
   "source": [
    "geo_logs = [\n",
    "    ['visit1', ['Москва', 'Россия']],\n",
    "    ['visit2', ['Дели', 'Индия']],\n",
    "    ['visit3', ['Владимир', 'Россия']],\n",
    "    ['visit4', ['Лиссабон', 'Португалия']],\n",
    "    ['visit5', ['Париж', 'Франция']],\n",
    "    ['visit6', ['Лиссабон', 'Португалия']],\n",
    "    ['visit7', ['Тула', 'Россия']],\n",
    "    ['visit8', ['Тула', 'Россия']],\n",
    "    ['visit9', ['Курск', 'Россия']],\n",
    "    ['visit10', ['Архангельск', 'Россия']],\n",
    "]\n",
    "\n",
    "\n",
    "# Решение\n",
    "[i for i in geo_logs if i[1][1]=='Россия']"
   ]
  },
  {
   "cell_type": "markdown",
   "metadata": {},
   "source": [
    "## Задание 2\n",
    "\n",
    "Выведите на экран все уникальные гео-ID из значений словаря ids. Т. е. список вида [213, 15, 54, 119, 98, 35]"
   ]
  },
  {
   "cell_type": "code",
   "execution_count": 78,
   "metadata": {},
   "outputs": [
    {
     "data": {
      "text/plain": [
       "[98, 35, 15, 213, 54, 119]"
      ]
     },
     "execution_count": 78,
     "metadata": {},
     "output_type": "execute_result"
    }
   ],
   "source": [
    "ids = {'user1': [213, 213, 213, 15, 213], 'user2': [54, 54, 119, 119, 119], 'user3': [213, 98, 98, 35]}\n",
    "\n",
    "# Решение\n",
    "list(set(sum([i for i in list(ids.values())], [])))"
   ]
  },
  {
   "cell_type": "markdown",
   "metadata": {},
   "source": [
    "## Задание 3\n",
    "Список поисковых запросов. Получить распределение количества слов в них. Т. е. поисковых запросов из одного слова 5%, из двух - 7%, из трех - 3% итд."
   ]
  },
  {
   "cell_type": "code",
   "execution_count": 104,
   "metadata": {},
   "outputs": [
    {
     "data": {
      "text/plain": [
       "['Количество слов из 2 букв: 42.86%', 'Количество слов из 3 букв: 57.14%']"
      ]
     },
     "execution_count": 104,
     "metadata": {},
     "output_type": "execute_result"
    }
   ],
   "source": [
    "queries = [\n",
    "    'смотреть сериалы онлайн',\n",
    "    'новости спорта',\n",
    "    'афиша кино',\n",
    "    'курс доллара',\n",
    "    'сериалы этим летом',\n",
    "    'курс по питону',\n",
    "    'сериалы про спорт',\n",
    "]\n",
    "\n",
    "# Решение\n",
    "a = [len(i.split()) for i in queries]\n",
    "\n",
    "['Количество слов из {0} букв: {1:.2f}%'.format(i, a.count(i)/len(a) * 100)\n",
    "         for i in set([len(i.split()) for i in queries])]"
   ]
  },
  {
   "cell_type": "markdown",
   "metadata": {},
   "source": [
    "## Задание 4\n",
    "Дана статистика рекламных каналов по объемам продаж. Напишите скрипт, который возвращает название канала с максимальным объемом.\n",
    "Т. е. в данном примере скрипт должен возвращать 'yandex'."
   ]
  },
  {
   "cell_type": "code",
   "execution_count": 213,
   "metadata": {},
   "outputs": [
    {
     "data": {
      "text/plain": [
       "'yandex'"
      ]
     },
     "execution_count": 213,
     "metadata": {},
     "output_type": "execute_result"
    }
   ],
   "source": [
    "stats = {'facebook': 55, 'yandex': 120, 'vk': 115, 'google': 99, 'email': 42, 'ok': 98}\n",
    "\n",
    "#Решение\n",
    "sorted(stats.items(), key = lambda x: x[1], reverse=True)[0][0]"
   ]
  },
  {
   "cell_type": "markdown",
   "metadata": {},
   "source": [
    "## Задание 5\n",
    "Дан поток логов по количеству просмотренных страниц для каждого пользователя. Список отсортирован по ID пользователя. Вам необходимо написать алгоритм, который считает среднее значение просмотров на пользователя. Т. е. надо посчитать отношение суммы всех просмотров к количеству уникальных пользователей. Учтите, что весь список stream не помещается в оперативную память, т. е. его нужно обрабатывать поэлементно в цикле."
   ]
  },
  {
   "cell_type": "code",
   "execution_count": 1,
   "metadata": {},
   "outputs": [
    {
     "name": "stdout",
     "output_type": "stream",
     "text": [
      "Cреднее значение просмотров на пользователя: 23.25 \n"
     ]
    }
   ],
   "source": [
    "stream = [\n",
    "    '2018-01-01,user1,3',\n",
    "    '2018-01-07,user1,4',\n",
    "    '2018-03-29,user1,1',\n",
    "    '2018-04-04,user1,13',\n",
    "    '2018-01-05,user2,7',\n",
    "    '2018-06-14,user3,4',\n",
    "    '2018-07-02,user3,10',\n",
    "    '2018-03-21,user4,19',\n",
    "    '2018-03-22,user4,4',\n",
    "    '2018-04-22,user4,8',\n",
    "    '2018-05-03,user4,9',\n",
    "    '2018-05-11,user4,11',\n",
    "]\n",
    "\n",
    "sum_views=0\n",
    "uniq_user=0\n",
    "prev_user = ''\n",
    "\n",
    "for i in stream:\n",
    "    str_values = i.split(',')\n",
    "    sum_views += int(str_values[2])\n",
    "    if prev_user != str_values[1]:\n",
    "        prev_user = str_values[1]\n",
    "        uniq_user += 1\n",
    "\n",
    "print('Cреднее значение просмотров на пользователя: {0:.2f} '.format(sum_views/uniq_user))\n",
    "    "
   ]
  },
  {
   "cell_type": "markdown",
   "metadata": {},
   "source": [
    "## Задание 6\n",
    "Дана статистика рекламных кампаний по дням. Напишите алгоритм, который по паре \n",
    "дата-кампания ищет значение численного столбца. Т. е. для даты '2018-01-01' и 'google' \n",
    "нужно получить число 25. Считайте, что все комбинации дата-кампания уникальны, \n",
    "а список stats легко помещается в оперативной памяти.\n",
    "\n",
    "2. В шестом задании бонусный вариант верен, но будет довольно долгим. Для примера из условия потребуется порядка 10**12 сравнений."
   ]
  },
  {
   "cell_type": "code",
   "execution_count": 3,
   "metadata": {},
   "outputs": [],
   "source": [
    "stats = [\n",
    "    ['2018-01-01', 'google', 25],\n",
    "    ['2018-01-01', 'yandex', 65],\n",
    "    ['2018-01-01', 'market', 89],\n",
    "    ['2018-01-02', 'google', 574],\n",
    "    ['2018-01-02', 'yandex', 249],\n",
    "    ['2018-01-02', 'market', 994],\n",
    "    ['2018-01-03', 'google', 1843],\n",
    "    ['2018-01-03', 'yandex', 1327],\n",
    "    ['2018-01-03', 'market', 1764],\n",
    "]   "
   ]
  },
  {
   "cell_type": "code",
   "execution_count": 139,
   "metadata": {},
   "outputs": [
    {
     "data": {
      "text/plain": [
       "574"
      ]
     },
     "execution_count": 139,
     "metadata": {},
     "output_type": "execute_result"
    }
   ],
   "source": [
    "def get_value_by_market_date(date, market):\n",
    "    dct = dict([(i[0] + i[1], i[2]) for i in stats])\n",
    "    return dct[date+market]\n",
    "\n",
    "get_value_by_market_date('2018-01-02', 'google')"
   ]
  },
  {
   "cell_type": "markdown",
   "metadata": {},
   "source": [
    "#### Бонусный вариант (делать его не обязательно)\n",
    "Рассмотрите обобщенный вариант этой задачи: имеется таблица из n столбцов. \n",
    "Первые n-1 столбцов - признаки (комбинации этих признаков в таблице уникальные). \n",
    "Последний столбец - значение. Вам необходимо по набору n-1 признаков найти соответствующую \n",
    "строчку в таблице и вернуть значение из правого столбца. \n",
    "Учтите, что исходная таблица может быть любого размера.\n",
    " \n",
    "Одно из применений задачи - объединение двух таблиц по n столбцов, \n",
    "одна из которых помещается в оперативной памяти. Например, 7 столбцов по 1 и 10 миллионов строк"
   ]
  },
  {
   "cell_type": "code",
   "execution_count": 14,
   "metadata": {},
   "outputs": [],
   "source": [
    "n=3\n",
    "set_stats = set(tuple(x) for x in stats)\n",
    "def get_value_by_market_data_(search_values):\n",
    "    for i in set_stats:\n",
    "        if i[0:n-1] == search_values:\n",
    "            return i[n-1]\n",
    "    "
   ]
  },
  {
   "cell_type": "code",
   "execution_count": 15,
   "metadata": {},
   "outputs": [
    {
     "data": {
      "text/plain": [
       "994"
      ]
     },
     "execution_count": 15,
     "metadata": {},
     "output_type": "execute_result"
    }
   ],
   "source": [
    "get_value_by_market_data_(('2018-01-02', 'market'))"
   ]
  },
  {
   "cell_type": "code",
   "execution_count": null,
   "metadata": {},
   "outputs": [],
   "source": []
  }
 ],
 "metadata": {
  "kernelspec": {
   "display_name": "Python 3",
   "language": "python",
   "name": "python3"
  },
  "language_info": {
   "codemirror_mode": {
    "name": "ipython",
    "version": 3
   },
   "file_extension": ".py",
   "mimetype": "text/x-python",
   "name": "python",
   "nbconvert_exporter": "python",
   "pygments_lexer": "ipython3",
   "version": "3.6.5"
  }
 },
 "nbformat": 4,
 "nbformat_minor": 2
}
