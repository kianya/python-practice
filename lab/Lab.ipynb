{
 "cells": [
  {
   "cell_type": "markdown",
   "metadata": {},
   "source": [
    "# Лабораторная работа по модулю “Python для анализа данных”\n"
   ]
  },
  {
   "cell_type": "markdown",
   "metadata": {},
   "source": [
    "### Задание 1. \n",
    "Дан произвольный список, содержащий только числа.Выведите результат сложения всех чисел больше 10. \n",
    "\n"
   ]
  },
  {
   "cell_type": "code",
   "execution_count": 1,
   "metadata": {},
   "outputs": [
    {
     "data": {
      "text/plain": [
       "220"
      ]
     },
     "execution_count": 1,
     "metadata": {},
     "output_type": "execute_result"
    }
   ],
   "source": [
    "def sum_list(lst):\n",
    "    return sum([i for i in lst if i>10])\n",
    "\n",
    "sum_list([6,70,8,90,5,60,7,8])"
   ]
  },
  {
   "cell_type": "markdown",
   "metadata": {},
   "source": [
    "## Задание 2. \n",
    "Пусть задан список, содержащий строки.Выведите все строки, заканчивающиеся буковой r.\n"
   ]
  },
  {
   "cell_type": "code",
   "execution_count": 2,
   "metadata": {},
   "outputs": [
    {
     "data": {
      "text/plain": [
       "['OR']"
      ]
     },
     "execution_count": 2,
     "metadata": {},
     "output_type": "execute_result"
    }
   ],
   "source": [
    "def show_str(lst):\n",
    "    return [i for i in lst if i.lower()[-1]=='r']\n",
    "\n",
    "show_str(['Create a new world','hello world','OR'])"
   ]
  },
  {
   "cell_type": "markdown",
   "metadata": {},
   "source": [
    "## Задание 3. \n",
    "Сгенерируйте и выведите cлучайную строку размером 6 символов, содержащуютолько цифры. Строка должна содержать хотя бы однуцифру 3.\n"
   ]
  },
  {
   "cell_type": "code",
   "execution_count": 3,
   "metadata": {},
   "outputs": [
    {
     "data": {
      "text/plain": [
       "'309570'"
      ]
     },
     "execution_count": 3,
     "metadata": {},
     "output_type": "execute_result"
    }
   ],
   "source": [
    "from random import choice\n",
    "\n",
    "def generate_str():\n",
    "    numbers = '1234567890'\n",
    "    positions = '012345'\n",
    "    \n",
    "    value = [choice(numbers) for i in range(0,6)]\n",
    "    position = int(choice(positions))\n",
    "    value[position] = '3'\n",
    "    return ''.join(value)\n",
    "\n",
    "generate_str()"
   ]
  },
  {
   "cell_type": "markdown",
   "metadata": {},
   "source": [
    "## Задание 4. \n",
    "Пусть дана строка произвольной длины. Выведите информацию о том,сколько в ней символов и сколько слов.\n"
   ]
  },
  {
   "cell_type": "code",
   "execution_count": 4,
   "metadata": {},
   "outputs": [
    {
     "data": {
      "text/plain": [
       "'В строке 5 слов и 27 символов'"
      ]
     },
     "execution_count": 4,
     "metadata": {},
     "output_type": "execute_result"
    }
   ],
   "source": [
    "def string_info(value):\n",
    "    return 'В строке {0} слов и {1} символов'.format(len(value.split()), len(value))\n",
    "\n",
    "string_info('Сколько слов в этой строке?')"
   ]
  },
  {
   "cell_type": "markdown",
   "metadata": {},
   "source": [
    "## Задание 5. \n",
    "Пусть дана матрица чисел размером NхN. Представьте данную матрицу ввиде списка. Выведите результат сложения всех элементов матрицы.\n"
   ]
  },
  {
   "cell_type": "code",
   "execution_count": 5,
   "metadata": {},
   "outputs": [
    {
     "data": {
      "text/plain": [
       "10"
      ]
     },
     "execution_count": 5,
     "metadata": {},
     "output_type": "execute_result"
    }
   ],
   "source": [
    "mat = [[1,2], [3,4]]\n",
    "\n",
    "def sum_elems(matrix):\n",
    "    lst = []\n",
    "    for i in matrix:\n",
    "        lst+=i\n",
    "    return sum(lst)\n",
    "    \n",
    "sum_elems(mat)"
   ]
  },
  {
   "cell_type": "markdown",
   "metadata": {},
   "source": [
    "## Задание 6. \n",
    "Пусть список студентов представлен в виде структуры [[No, ФИО, Возраст,Группа],[No, ФИО, Возраст, Группа],[No, ФИО, Возраст, Группа]]. Преобразуйте список в словарь вида: {No: [ФИО, Возраст, Группа], No:[....], No: [....]}\n"
   ]
  },
  {
   "cell_type": "code",
   "execution_count": 6,
   "metadata": {},
   "outputs": [
    {
     "data": {
      "text/plain": [
       "{1: ['Лукьянова', 21, 'B1'],\n",
       " 2: ['Мартова', 21, 'B4'],\n",
       " 3: ['Синицина', 21, 'B2']}"
      ]
     },
     "execution_count": 6,
     "metadata": {},
     "output_type": "execute_result"
    }
   ],
   "source": [
    "students = [[1, 'Лукьянова', 21,'B1'],[2, 'Мартова', 21,'B4'],[3, 'Синицина', 21,'B2']]\n",
    "\n",
    "def make_dict(value):\n",
    "    return {i[0]:i[1:] for i in value}\n",
    "\n",
    "student_dict = make_dict(students)\n",
    "student_dict"
   ]
  },
  {
   "cell_type": "markdown",
   "metadata": {},
   "source": [
    "## Задание 7. \n",
    "Добавьте к задаче No6 для словаря возможность (без преобразования словаря обратно в список) изменить группу студента. Поиск по «ФИО» («ФИО» студента и новый номер группы необходимо ввести с клавиатуры).\n"
   ]
  },
  {
   "cell_type": "code",
   "execution_count": 7,
   "metadata": {},
   "outputs": [
    {
     "name": "stdout",
     "output_type": "stream",
     "text": [
      "Пожалуйста, введите ФИО студента: Мартова\n",
      "Пожалуйста, введите группу студента: и1\n",
      "Введенные данные: Мартова, и1\n",
      "Данные о студенте изменены: ['Мартова', 21, 'и1']\n"
     ]
    }
   ],
   "source": [
    "def change_student_group():\n",
    "    FIO = input(\"Пожалуйста, введите ФИО студента: \")\n",
    "    group = input(\"Пожалуйста, введите группу студента: \")\n",
    "    \n",
    "    print('Введенные данные: {0}, {1}'.format(FIO, group))\n",
    "    for key, value in student_dict.items():\n",
    "        if value[0] == FIO:\n",
    "            student_dict[key][-1] = group\n",
    "            print('Данные о студенте изменены: {}'.format(student_dict[key]))\n",
    "    \n",
    "    \n",
    "change_student_group()"
   ]
  },
  {
   "cell_type": "markdown",
   "metadata": {},
   "source": [
    "## Задание 8. *\n",
    "Дана некоторая директория (папка). Посчитайте количество файлов в данной директории (папке) и выведите на  экран."
   ]
  },
  {
   "cell_type": "code",
   "execution_count": 19,
   "metadata": {},
   "outputs": [
    {
     "name": "stdout",
     "output_type": "stream",
     "text": [
      "Количество файлов в директории /users/akirichenko/Netologia/Python : 3\n"
     ]
    }
   ],
   "source": [
    "import os\n",
    "directory = '/users/akirichenko/Netologia/Python'\n",
    "\n",
    "def count_files(directory):\n",
    "    return len(next(os.walk(directory))[2])\n",
    "\n",
    "print('Количество файлов в директории {0} : {1}'.format(directory, count_files(directory) ))"
   ]
  }
 ],
 "metadata": {
  "kernelspec": {
   "display_name": "Python 3",
   "language": "python",
   "name": "python3"
  },
  "language_info": {
   "codemirror_mode": {
    "name": "ipython",
    "version": 3
   },
   "file_extension": ".py",
   "mimetype": "text/x-python",
   "name": "python",
   "nbconvert_exporter": "python",
   "pygments_lexer": "ipython3",
   "version": "3.6.5"
  }
 },
 "nbformat": 4,
 "nbformat_minor": 2
}
